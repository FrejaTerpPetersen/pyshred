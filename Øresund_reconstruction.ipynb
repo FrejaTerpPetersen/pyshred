{
 "cells": [
  {
   "attachments": {},
   "cell_type": "markdown",
   "metadata": {},
   "source": [
    "### SHRED applied to Øresund"
   ]
  },
  {
   "attachments": {},
   "cell_type": "markdown",
   "metadata": {},
   "source": [
    "This iPython notebook gives an introductory walkthrough to using SHRED models.  \n",
    "\n",
    "SHRED (SHallow REcurrent Decoder) models are a network architecture that merges a recurrent layer (LSTM) with a shallow decoder network (SDN) to reconstruct high-dimensional spatio-temporal fields from a trajectory of sensor measurements of the field. More formally, the SHRED architecture can be written as \n",
    "$$ \\mathcal {H} \\left( \\{ y_i \\} _{i=t-k}^t \\right) = \\mathcal {F} \\left( \\mathcal {G} \\left( \\{ y_i \\} _{i=t-k}^t \\right) ; W_{RN}) ; W_{SD} \\right)$$\n",
    "where $\\mathcal F$ is a feed forward network parameterized by weights $W_{SD}$, $\\mathcal G$ is a LSTM network parameterized by weights $W_{RN}$, and $\\{ y_i \\} _{i=t-k}^t$ is a trajectory of sensor measurements of a high-dimensional spatio-temporal field $\\{ x_i \\} _{i=t-k}^t$."
   ]
  },
  {
   "attachments": {},
   "cell_type": "markdown",
   "metadata": {},
   "source": [
    "We first randomly select 3 sensor locations and set the trajectory length (lags) to 52, corresponding to one year of measurements."
   ]
  },
  {
   "cell_type": "code",
   "execution_count": 1,
   "metadata": {},
   "outputs": [],
   "source": [
    "import numpy as np\n",
    "import matplotlib.pyplot as plt\n",
    "import mikeio\n",
    "\n",
    "\n",
    "num_sensors = 3 \n",
    "lags = 52\n",
    "\n",
    "sensor_locations = np.array([2849,   41, 2452])\n",
    "np.save(\"Data/sensor_locations.npy\",sensor_locations)\n"
   ]
  },
  {
   "cell_type": "code",
   "execution_count": 2,
   "metadata": {},
   "outputs": [
    {
     "ename": "FileNotFoundError",
     "evalue": "Data/oresund/BC_SFC_North_2D_2014-2024.dfs1",
     "output_type": "error",
     "traceback": [
      "\u001b[0;31m---------------------------------------------------------------------------\u001b[0m",
      "\u001b[0;31mFileNotFoundError\u001b[0m                         Traceback (most recent call last)",
      "Cell \u001b[0;32mIn[2], line 2\u001b[0m\n\u001b[1;32m      1\u001b[0m \u001b[38;5;66;03m# Load and save boundary data\u001b[39;00m\n\u001b[0;32m----> 2\u001b[0m ds \u001b[38;5;241m=\u001b[39m \u001b[43mmikeio\u001b[49m\u001b[38;5;241;43m.\u001b[39;49m\u001b[43mread\u001b[49m\u001b[43m(\u001b[49m\u001b[38;5;124;43m\"\u001b[39;49m\u001b[38;5;124;43mData/oresund/BC_SFC_North_2D_2014-2024.dfs1\u001b[39;49m\u001b[38;5;124;43m\"\u001b[39;49m\u001b[43m,\u001b[49m\u001b[43mtime\u001b[49m\u001b[38;5;241;43m=\u001b[39;49m\u001b[38;5;28;43mslice\u001b[39;49m\u001b[43m(\u001b[49m\u001b[38;5;124;43m\"\u001b[39;49m\u001b[38;5;124;43m2022-01-01\u001b[39;49m\u001b[38;5;124;43m\"\u001b[39;49m\u001b[43m,\u001b[49m\u001b[43m \u001b[49m\u001b[38;5;124;43m\"\u001b[39;49m\u001b[38;5;124;43m2022-04-30\u001b[39;49m\u001b[38;5;124;43m\"\u001b[39;49m\u001b[43m)\u001b[49m\u001b[43m,\u001b[49m\u001b[43m \u001b[49m\u001b[43mitems\u001b[49m\u001b[38;5;241;43m=\u001b[39;49m\u001b[43m[\u001b[49m\u001b[38;5;241;43m0\u001b[39;49m\u001b[43m]\u001b[49m\u001b[43m)\u001b[49m\n\u001b[1;32m      3\u001b[0m ds\u001b[38;5;241m.\u001b[39mto_dfs(\u001b[38;5;124m\"\u001b[39m\u001b[38;5;124mData/oresund/BCn.dfs1\u001b[39m\u001b[38;5;124m\"\u001b[39m)\n\u001b[1;32m      4\u001b[0m \u001b[38;5;28mprint\u001b[39m(\u001b[38;5;124mf\u001b[39m\u001b[38;5;124m\"\u001b[39m\u001b[38;5;124mThere are \u001b[39m\u001b[38;5;132;01m{\u001b[39;00mds\u001b[38;5;241m.\u001b[39mgeometry\u001b[38;5;241m.\u001b[39mx\u001b[38;5;241m.\u001b[39mshape[\u001b[38;5;241m0\u001b[39m]\u001b[38;5;132;01m}\u001b[39;00m\u001b[38;5;124m points in the North boundary\u001b[39m\u001b[38;5;124m\"\u001b[39m)\n",
      "File \u001b[0;32m/home/zeus/miniconda3/envs/cloudspace/lib/python3.10/site-packages/mikeio/__init__.py:122\u001b[0m, in \u001b[0;36mread\u001b[0;34m(filename, items, time, keepdims, **kwargs)\u001b[0m\n\u001b[1;32m    117\u001b[0m \u001b[38;5;28;01mif\u001b[39;00m \u001b[38;5;124m\"\u001b[39m\u001b[38;5;124mdfs\u001b[39m\u001b[38;5;124m\"\u001b[39m \u001b[38;5;129;01mnot\u001b[39;00m \u001b[38;5;129;01min\u001b[39;00m ext:\n\u001b[1;32m    118\u001b[0m     \u001b[38;5;28;01mraise\u001b[39;00m \u001b[38;5;167;01mValueError\u001b[39;00m(\n\u001b[1;32m    119\u001b[0m         \u001b[38;5;124m\"\u001b[39m\u001b[38;5;124mmikeio.read() is only supported for dfs files. Use mikeio.open for mesh files.\u001b[39m\u001b[38;5;124m\"\u001b[39m\n\u001b[1;32m    120\u001b[0m     )\n\u001b[0;32m--> 122\u001b[0m dfs \u001b[38;5;241m=\u001b[39m \u001b[38;5;28;43mopen\u001b[39;49m\u001b[43m(\u001b[49m\u001b[43mfilename\u001b[49m\u001b[43m)\u001b[49m\n\u001b[1;32m    123\u001b[0m \u001b[38;5;28;01mif\u001b[39;00m \u001b[38;5;28misinstance\u001b[39m(dfs, Mesh):\n\u001b[1;32m    124\u001b[0m     \u001b[38;5;28;01mraise\u001b[39;00m \u001b[38;5;167;01mValueError\u001b[39;00m(\u001b[38;5;124m\"\u001b[39m\u001b[38;5;124mmikeio.read() is not supported for Mesh files\u001b[39m\u001b[38;5;124m\"\u001b[39m)\n",
      "File \u001b[0;32m/home/zeus/miniconda3/envs/cloudspace/lib/python3.10/site-packages/mikeio/__init__.py:182\u001b[0m, in \u001b[0;36mopen\u001b[0;34m(filename, **kwargs)\u001b[0m\n\u001b[1;32m    176\u001b[0m     \u001b[38;5;28;01mraise\u001b[39;00m \u001b[38;5;167;01mException\u001b[39;00m(\n\u001b[1;32m    177\u001b[0m         \u001b[38;5;124mf\u001b[39m\u001b[38;5;124m\"\u001b[39m\u001b[38;5;132;01m{\u001b[39;00mext\u001b[38;5;132;01m}\u001b[39;00m\u001b[38;5;124m is not a supported format for mikeio.open. Valid formats are \u001b[39m\u001b[38;5;132;01m{\u001b[39;00mvalid_formats\u001b[38;5;132;01m}\u001b[39;00m\u001b[38;5;124m\"\u001b[39m\n\u001b[1;32m    178\u001b[0m     )\n\u001b[1;32m    180\u001b[0m reader_klass \u001b[38;5;241m=\u001b[39m READERS[ext]\n\u001b[0;32m--> 182\u001b[0m \u001b[38;5;28;01mreturn\u001b[39;00m \u001b[43mreader_klass\u001b[49m\u001b[43m(\u001b[49m\u001b[43mfilename\u001b[49m\u001b[43m,\u001b[49m\u001b[43m \u001b[49m\u001b[38;5;241;43m*\u001b[39;49m\u001b[38;5;241;43m*\u001b[39;49m\u001b[43mkwargs\u001b[49m\u001b[43m)\u001b[49m\n",
      "File \u001b[0;32m/home/zeus/miniconda3/envs/cloudspace/lib/python3.10/site-packages/mikeio/dfs/_dfs1.py:88\u001b[0m, in \u001b[0;36mDfs1.__init__\u001b[0;34m(self, filename)\u001b[0m\n\u001b[1;32m     87\u001b[0m \u001b[38;5;28;01mdef\u001b[39;00m\u001b[38;5;250m \u001b[39m\u001b[38;5;21m__init__\u001b[39m(\u001b[38;5;28mself\u001b[39m, filename: \u001b[38;5;28mstr\u001b[39m \u001b[38;5;241m|\u001b[39m Path) \u001b[38;5;241m-\u001b[39m\u001b[38;5;241m>\u001b[39m \u001b[38;5;28;01mNone\u001b[39;00m:\n\u001b[0;32m---> 88\u001b[0m     \u001b[38;5;28;43msuper\u001b[39;49m\u001b[43m(\u001b[49m\u001b[43m)\u001b[49m\u001b[38;5;241;43m.\u001b[39;49m\u001b[38;5;21;43m__init__\u001b[39;49m\u001b[43m(\u001b[49m\u001b[43mfilename\u001b[49m\u001b[43m)\u001b[49m\n\u001b[1;32m     90\u001b[0m     \u001b[38;5;28mself\u001b[39m\u001b[38;5;241m.\u001b[39m_dfs \u001b[38;5;241m=\u001b[39m DfsFileFactory\u001b[38;5;241m.\u001b[39mDfs1FileOpen(\u001b[38;5;28mstr\u001b[39m(filename))\n\u001b[1;32m     91\u001b[0m     \u001b[38;5;28mself\u001b[39m\u001b[38;5;241m.\u001b[39m_x0: \u001b[38;5;28mfloat\u001b[39m \u001b[38;5;241m=\u001b[39m \u001b[38;5;28mself\u001b[39m\u001b[38;5;241m.\u001b[39m_dfs\u001b[38;5;241m.\u001b[39mSpatialAxis\u001b[38;5;241m.\u001b[39mX0\n",
      "File \u001b[0;32m/home/zeus/miniconda3/envs/cloudspace/lib/python3.10/site-packages/mikeio/dfs/_dfs.py:285\u001b[0m, in \u001b[0;36m_Dfs123.__init__\u001b[0;34m(self, filename)\u001b[0m\n\u001b[1;32m    283\u001b[0m path \u001b[38;5;241m=\u001b[39m Path(filename)\n\u001b[1;32m    284\u001b[0m \u001b[38;5;28;01mif\u001b[39;00m \u001b[38;5;129;01mnot\u001b[39;00m path\u001b[38;5;241m.\u001b[39mexists():\n\u001b[0;32m--> 285\u001b[0m     \u001b[38;5;28;01mraise\u001b[39;00m \u001b[38;5;167;01mFileNotFoundError\u001b[39;00m(path)\n\u001b[1;32m    286\u001b[0m \u001b[38;5;28mself\u001b[39m\u001b[38;5;241m.\u001b[39m_filename \u001b[38;5;241m=\u001b[39m \u001b[38;5;28mstr\u001b[39m(filename) \u001b[38;5;28;01mif\u001b[39;00m filename \u001b[38;5;28;01melse\u001b[39;00m \u001b[38;5;28;01mNone\u001b[39;00m\n\u001b[1;32m    287\u001b[0m \u001b[38;5;28mself\u001b[39m\u001b[38;5;241m.\u001b[39m_end_time \u001b[38;5;241m=\u001b[39m \u001b[38;5;28;01mNone\u001b[39;00m\n",
      "\u001b[0;31mFileNotFoundError\u001b[0m: Data/oresund/BC_SFC_North_2D_2014-2024.dfs1"
     ]
    }
   ],
   "source": [
    "# Load and save boundary data\n",
    "ds = mikeio.read(\"Data/oresund/BC_SFC_North_2D_2014-2024.dfs1\",time=slice(\"2022-01-01\", \"2022-04-30\"), items=[0])\n",
    "ds.to_dfs(\"Data/oresund/BCn.dfs1\")\n",
    "print(f\"There are {ds.geometry.x.shape[0]} points in the North boundary\")\n",
    "\n",
    "ds = mikeio.read(\"Data/oresund/BC_SFC_South_2D_2014-2024.dfs1\",time=slice(\"2022-01-01\", \"2022-04-30\"), items=[0])\n",
    "ds.to_dfs(\"Data/oresund/BCs.dfs1\")\n",
    "print(f\"There are {ds.geometry.x.shape[0]} points in the South boundary\")\n"
   ]
  },
  {
   "cell_type": "code",
   "execution_count": 86,
   "metadata": {},
   "outputs": [],
   "source": [
    "ds = mikeio.read(\"Data/Area.dfsu\",time=slice(\"2022-01-01\", \"2022-04-30\"), items=[0])\n",
    "# ds.to_dfs(\"Data/Area_5m.dfsu\")\n",
    "load_X = ds[0].to_numpy()\n",
    "load_X.shape\n",
    "n = load_X.shape[0]\n",
    "m = load_X.shape[1]"
   ]
  },
  {
   "cell_type": "code",
   "execution_count": null,
   "metadata": {},
   "outputs": [],
   "source": [
    "south_node_coords = ds.geometry.node_coordinates[ds.geometry.codes==3,:2]\n",
    "north_node_coords = ds.geometry.node_coordinates[ds.geometry.codes==2,:2]\n",
    "np.save(\"Data/oresund/south_node_coords.npy\", south_node_coords)\n",
    "np.save(\"Data/oresund/north_node_coords.npy\", north_node_coords)"
   ]
  },
  {
   "attachments": {},
   "cell_type": "markdown",
   "metadata": {},
   "source": [
    "We now select indices to divide the data into training, validation, and test sets."
   ]
  },
  {
   "cell_type": "code",
   "execution_count": 19,
   "metadata": {},
   "outputs": [],
   "source": [
    "# FRTP:\n",
    "n_test = 174\n",
    "n_valid = 174\n",
    "n_train = 1000\n",
    "\n",
    "train_indices = np.arange(0, n_train)\n",
    "valid_test_indices = np.arange(n_train,n_train+n_valid)\n",
    "test_indices = np.arange(n_train+n_valid,n_train+n_valid+n_test)\n"
   ]
  },
  {
   "cell_type": "code",
   "execution_count": 22,
   "metadata": {},
   "outputs": [
    {
     "data": {
      "text/plain": [
       "array([2849,   41, 2452])"
      ]
     },
     "execution_count": 22,
     "metadata": {},
     "output_type": "execute_result"
    }
   ],
   "source": [
    "np.load(\"ForecastingResults/sensor_locations.npy\")"
   ]
  },
  {
   "cell_type": "code",
   "execution_count": 23,
   "metadata": {},
   "outputs": [],
   "source": [
    "reconstruction = np.load('ReconstructingResults/reconstructions.npy')\n",
    "truths = np.load('ReconstructingResults/truth.npy')\n",
    "sensor_locations = np.load('ForecastingResults/sensor_locations.npy')"
   ]
  },
  {
   "cell_type": "code",
   "execution_count": 24,
   "metadata": {},
   "outputs": [],
   "source": [
    "# Default from paper ?!?!?!\n",
    "# Test Reconstruction Error: \n",
    "# 0.0193155\n",
    "\n",
    "# When train and test are clearly separated:\n",
    "# Test Reconstruction Error: \n",
    "# 0.04866559"
   ]
  },
  {
   "cell_type": "code",
   "execution_count": 3,
   "metadata": {},
   "outputs": [
    {
     "ename": "NameError",
     "evalue": "name 'ds' is not defined",
     "output_type": "error",
     "traceback": [
      "\u001b[0;31m---------------------------------------------------------------------------\u001b[0m",
      "\u001b[0;31mNameError\u001b[0m                                 Traceback (most recent call last)",
      "Cell \u001b[0;32mIn[3], line 1\u001b[0m\n\u001b[0;32m----> 1\u001b[0m elem_cor \u001b[38;5;241m=\u001b[39m \u001b[43mds\u001b[49m[\u001b[38;5;241m0\u001b[39m]\u001b[38;5;241m.\u001b[39mgeometry\u001b[38;5;241m.\u001b[39melement_coordinates\n\u001b[1;32m      2\u001b[0m plot_index \u001b[38;5;241m=\u001b[39m \u001b[38;5;241m10\u001b[39m\n\u001b[1;32m      5\u001b[0m \u001b[38;5;66;03m# Create dataarrays for plotting\u001b[39;00m\n",
      "\u001b[0;31mNameError\u001b[0m: name 'ds' is not defined"
     ]
    }
   ],
   "source": [
    "elem_cor = ds[0].geometry.element_coordinates\n",
    "plot_index = 10\n",
    "\n",
    "\n",
    "# Create dataarrays for plotting\n",
    "da_plot_recon = ds[0].sel(time=ds.time[test_indices[plot_index]+ lags - 1]).copy()\n",
    "da_plot_true = da_plot_recon.copy()\n",
    "da_plot_err = da_plot_recon.copy()\n",
    "# Fill with values from the reconstruction and the ground truth, as well as errors\n",
    "da_plot_recon.values = reconstruction[plot_index]\n",
    "da_plot_true.values = truths[plot_index]\n",
    "da_plot_err.values =  truths[plot_index]-reconstruction[plot_index]\n",
    "# min and max values for the colorbar\n",
    "vmin = -max(abs(np.min(da_plot_err.values)),abs(np.max(da_plot_err.values)))\n",
    "vmax = max(abs(np.min(da_plot_err.values)),abs(np.max(da_plot_err.values)))\n",
    "\n",
    "fig,axs = plt.subplots(1,3,figsize=(15,6))\n",
    "fig.suptitle('SHRED reconstruction of sensor data')\n",
    "\n",
    "da_plot_true.plot(ax = axs[1],add_colorbar=False)\n",
    "cbar = fig.colorbar(axs[1].collections[0], ax=axs[1],label='Surface elevation [m]')\n",
    "axs[1].set_title('Ground truth')\n",
    "\n",
    "da_plot_err.plot(ax = axs[2],cmap=\"bwr\",vmin=vmin,vmax=vmax,add_colorbar=False)\n",
    "cbar = fig.colorbar(axs[2].collections[0], ax=axs[2],label='Error')\n",
    "axs[2].set_title('Error')\n",
    "\n",
    "da_plot_recon.plot(ax = axs[0],add_colorbar=False)\n",
    "cbar = fig.colorbar(axs[0].collections[0], ax=axs[0],label='Surface elevation [m]')\n",
    "axs[0].set_title(f'Reconstruction: {da_plot_recon.time[0].strftime(\"%d-%m-%Y %H:%M:%S\")}')\n",
    "\n",
    "# Add a red dot to the spatial points indicated by the sensor locations\n",
    "for i in range(num_sensors):\n",
    "    axs[0].scatter(elem_cor[sensor_locations[i],0], elem_cor[sensor_locations[i],1], color='red', s=40, label='Sensor location')\n",
    "    axs[1].scatter(elem_cor[sensor_locations[i],0], elem_cor[sensor_locations[i],1], color='red', s=40, label='Sensor location')\n",
    "\n",
    "plt.tight_layout()\n",
    "\n"
   ]
  },
  {
   "cell_type": "code",
   "execution_count": 4,
   "metadata": {},
   "outputs": [
    {
     "ename": "NameError",
     "evalue": "name 'da_plot_err' is not defined",
     "output_type": "error",
     "traceback": [
      "\u001b[0;31m---------------------------------------------------------------------------\u001b[0m",
      "\u001b[0;31mNameError\u001b[0m                                 Traceback (most recent call last)",
      "Cell \u001b[0;32mIn[4], line 1\u001b[0m\n\u001b[0;32m----> 1\u001b[0m rmspe \u001b[38;5;241m=\u001b[39m np\u001b[38;5;241m.\u001b[39msqrt(np\u001b[38;5;241m.\u001b[39mmean(np\u001b[38;5;241m.\u001b[39msquare((\u001b[43mda_plot_err\u001b[49m\u001b[38;5;241m.\u001b[39mvalues \u001b[38;5;241m/\u001b[39m da_plot_true\u001b[38;5;241m.\u001b[39mvalues)), axis\u001b[38;5;241m=\u001b[39m\u001b[38;5;241m0\u001b[39m))\n\u001b[1;32m      2\u001b[0m rmse \u001b[38;5;241m=\u001b[39m np\u001b[38;5;241m.\u001b[39msqrt(np\u001b[38;5;241m.\u001b[39mmean(np\u001b[38;5;241m.\u001b[39msquare((da_plot_err\u001b[38;5;241m.\u001b[39mvalues)), axis\u001b[38;5;241m=\u001b[39m\u001b[38;5;241m0\u001b[39m))\n\u001b[1;32m      4\u001b[0m \u001b[38;5;28mprint\u001b[39m(\u001b[38;5;124m'\u001b[39m\u001b[38;5;124mRMSPE: \u001b[39m\u001b[38;5;124m'\u001b[39m, rmspe,\u001b[38;5;124m'\u001b[39m\u001b[38;5;124m \u001b[39m\u001b[38;5;130;01m\\n\u001b[39;00m\u001b[38;5;124mRMSE:  \u001b[39m\u001b[38;5;124m'\u001b[39m, rmse)\n",
      "\u001b[0;31mNameError\u001b[0m: name 'da_plot_err' is not defined"
     ]
    }
   ],
   "source": [
    "rmspe = np.sqrt(np.mean(np.square((da_plot_err.values / da_plot_true.values)), axis=0))\n",
    "rmse = np.sqrt(np.mean(np.square((da_plot_err.values)), axis=0))\n",
    "\n",
    "print('RMSPE: ', rmspe,' \\nRMSE:  ', rmse)"
   ]
  },
  {
   "cell_type": "markdown",
   "metadata": {},
   "source": [
    "## Reconstruction from forcing data"
   ]
  },
  {
   "cell_type": "markdown",
   "metadata": {},
   "source": [
    "train_indices = np.arange(0, int(n*0.85))\n",
    "valid_indices = np.arange(int(n*0.85), int(n*0.85) + args.val_length)\n",
    "test_indices = np.arange(int(n*0.85) + args.val_length, n - lags)"
   ]
  }
 ],
 "metadata": {
  "kernelspec": {
   "display_name": "shred",
   "language": "python",
   "name": "python3"
  },
  "language_info": {
   "codemirror_mode": {
    "name": "ipython",
    "version": 3
   },
   "file_extension": ".py",
   "mimetype": "text/x-python",
   "name": "python",
   "nbconvert_exporter": "python",
   "pygments_lexer": "ipython3",
   "version": "3.11.12"
  },
  "orig_nbformat": 4
 },
 "nbformat": 4,
 "nbformat_minor": 2
}
