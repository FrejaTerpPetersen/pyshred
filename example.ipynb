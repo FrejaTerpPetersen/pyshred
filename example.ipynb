{
 "cells": [
  {
   "attachments": {},
   "cell_type": "markdown",
   "metadata": {},
   "source": [
    "### SHRED applied to SST dataset"
   ]
  },
  {
   "attachments": {},
   "cell_type": "markdown",
   "metadata": {},
   "source": [
    "This iPython notebook gives an introductory walkthrough to using SHRED models.  The dataset we consider is weekly mean sea-surface temperature as given by the NOAA Optimum Interpolation SST V2 dataset (https://psl.noaa.gov/data/gridded/data.noaa.oisst.v2.html).\n",
    "\n",
    "SHRED (SHallow REcurrent Decoder) models are a network architecture that merges a recurrent layer (LSTM) with a shallow decoder network (SDN) to reconstruct high-dimensional spatio-temporal fields from a trajectory of sensor measurements of the field. More formally, the SHRED architecture can be written as \n",
    "$$ \\mathcal {H} \\left( \\{ y_i \\} _{i=t-k}^t \\right) = \\mathcal {F} \\left( \\mathcal {G} \\left( \\{ y_i \\} _{i=t-k}^t \\right) ; W_{RN}) ; W_{SD} \\right)$$\n",
    "where $\\mathcal F$ is a feed forward network parameterized by weights $W_{SD}$, $\\mathcal G$ is a LSTM network parameterized by weights $W_{RN}$, and $\\{ y_i \\} _{i=t-k}^t$ is a trajectory of sensor measurements of a high-dimensional spatio-temporal field $\\{ x_i \\} _{i=t-k}^t$."
   ]
  },
  {
   "attachments": {},
   "cell_type": "markdown",
   "metadata": {},
   "source": [
    "We first randomly select 3 sensor locations and set the trajectory length (lags) to 52, corresponding to one year of measurements."
   ]
  },
  {
   "cell_type": "code",
   "execution_count": 1,
   "metadata": {},
   "outputs": [],
   "source": [
    "import numpy as np\n",
    "from processdata import load_data\n",
    "from processdata import TimeSeriesDataset\n",
    "import models\n",
    "import torch\n",
    "import matplotlib.pyplot as plt\n",
    "from sklearn.preprocessing import MinMaxScaler\n",
    "\n",
    "num_sensors = 3 \n",
    "lags = 52\n",
    "load_X = load_data('SST')\n",
    "n = load_X.shape[0]\n",
    "m = load_X.shape[1]\n",
    "sensor_locations = np.random.choice(m, size=num_sensors, replace=False)"
   ]
  },
  {
   "attachments": {},
   "cell_type": "markdown",
   "metadata": {},
   "source": [
    "We now select indices to divide the data into training, validation, and test sets."
   ]
  },
  {
   "cell_type": "code",
   "execution_count": 2,
   "metadata": {},
   "outputs": [],
   "source": [
    "train_indices = np.random.choice(n - lags, size=1000, replace=False)\n",
    "mask = np.ones(n - lags)\n",
    "mask[train_indices] = 0\n",
    "valid_test_indices = np.arange(0, n - lags)[np.where(mask!=0)[0]]\n",
    "valid_indices = valid_test_indices[::2]\n",
    "test_indices = valid_test_indices[1::2]"
   ]
  },
  {
   "attachments": {},
   "cell_type": "markdown",
   "metadata": {},
   "source": [
    "sklearn's MinMaxScaler is used to preprocess the data for training and we generate input/output pairs for the training, validation, and test sets. "
   ]
  },
  {
   "cell_type": "code",
   "execution_count": 3,
   "metadata": {},
   "outputs": [],
   "source": [
    "sc = MinMaxScaler()\n",
    "sc = sc.fit(load_X[train_indices])\n",
    "transformed_X = sc.transform(load_X)"
   ]
  },
  {
   "cell_type": "markdown",
   "metadata": {},
   "source": [
    "We now organize the data such that the inputs are of shape (batch_size, lags, num_sensors) with corresponding outputs of size (batch_size, state_dimension)."
   ]
  },
  {
   "cell_type": "code",
   "execution_count": 4,
   "metadata": {},
   "outputs": [],
   "source": [
    "### Generate input sequences to a SHRED model\n",
    "all_data_in = np.zeros((n - lags, lags, num_sensors))\n",
    "for i in range(len(all_data_in)):\n",
    "    all_data_in[i] = transformed_X[i:i+lags, sensor_locations]\n",
    "\n",
    "### Generate training validation and test datasets both for reconstruction of states and forecasting sensors\n",
    "device = 'cuda' if torch.cuda.is_available() else 'cpu'\n",
    "\n",
    "train_data_in = torch.tensor(all_data_in[train_indices], dtype=torch.float32).to(device)\n",
    "valid_data_in = torch.tensor(all_data_in[valid_indices], dtype=torch.float32).to(device)\n",
    "test_data_in = torch.tensor(all_data_in[test_indices], dtype=torch.float32).to(device)\n",
    "\n",
    "### -1 to have output be at the same time as final sensor measurements\n",
    "train_data_out = torch.tensor(transformed_X[train_indices + lags - 1], dtype=torch.float32).to(device)\n",
    "valid_data_out = torch.tensor(transformed_X[valid_indices + lags - 1], dtype=torch.float32).to(device)\n",
    "test_data_out = torch.tensor(transformed_X[test_indices + lags - 1], dtype=torch.float32).to(device)\n",
    "\n",
    "train_dataset = TimeSeriesDataset(train_data_in, train_data_out)\n",
    "valid_dataset = TimeSeriesDataset(valid_data_in, valid_data_out)\n",
    "test_dataset = TimeSeriesDataset(test_data_in, test_data_out)"
   ]
  },
  {
   "attachments": {},
   "cell_type": "markdown",
   "metadata": {},
   "source": [
    "We train the model using the training and validation datasets."
   ]
  },
  {
   "cell_type": "code",
   "execution_count": 5,
   "metadata": {},
   "outputs": [
    {
     "name": "stdout",
     "output_type": "stream",
     "text": [
      "Training epoch 1\n",
      "Error tensor(0.4736)\n",
      "Training epoch 20\n",
      "Error tensor(0.2252)\n",
      "Training epoch 40\n",
      "Error tensor(0.2194)\n",
      "Training epoch 60\n",
      "Error tensor(0.2193)\n",
      "Training epoch 80\n",
      "Error tensor(0.2155)\n",
      "Training epoch 100\n",
      "Error tensor(0.2117)\n",
      "Training epoch 120\n",
      "Error tensor(0.2050)\n",
      "Training epoch 140\n",
      "Error tensor(0.2111)\n",
      "Training epoch 160\n",
      "Error tensor(0.2003)\n",
      "Training epoch 180\n",
      "Error tensor(0.1931)\n",
      "Training epoch 200\n",
      "Error tensor(0.1875)\n",
      "Training epoch 220\n",
      "Error tensor(0.1734)\n",
      "Training epoch 240\n",
      "Error tensor(0.1585)\n",
      "Training epoch 260\n",
      "Error tensor(0.1489)\n",
      "Training epoch 280\n",
      "Error tensor(0.1442)\n",
      "Training epoch 300\n",
      "Error tensor(0.1364)\n",
      "Training epoch 320\n",
      "Error tensor(0.1303)\n",
      "Training epoch 340\n",
      "Error tensor(0.1268)\n",
      "Training epoch 360\n",
      "Error tensor(0.1241)\n",
      "Training epoch 380\n",
      "Error tensor(0.1208)\n",
      "Training epoch 400\n",
      "Error tensor(0.1199)\n",
      "Training epoch 420\n",
      "Error tensor(0.1185)\n",
      "Training epoch 440\n",
      "Error tensor(0.1167)\n",
      "Training epoch 460\n",
      "Error tensor(0.1151)\n",
      "Training epoch 480\n",
      "Error tensor(0.1159)\n",
      "Training epoch 500\n",
      "Error tensor(0.1143)\n",
      "Training epoch 520\n",
      "Error tensor(0.1140)\n",
      "Training epoch 540\n",
      "Error tensor(0.1145)\n",
      "Training epoch 560\n",
      "Error tensor(0.1126)\n",
      "Training epoch 580\n",
      "Error tensor(0.1115)\n",
      "Training epoch 600\n",
      "Error tensor(0.1115)\n",
      "Training epoch 620\n",
      "Error tensor(0.1112)\n",
      "Training epoch 640\n",
      "Error tensor(0.1109)\n",
      "Training epoch 660\n",
      "Error tensor(0.1103)\n",
      "Training epoch 680\n",
      "Error tensor(0.1108)\n",
      "Training epoch 700\n",
      "Error tensor(0.1102)\n",
      "Training epoch 720\n",
      "Error tensor(0.1102)\n",
      "Training epoch 740\n",
      "Error tensor(0.1099)\n",
      "Training epoch 760\n",
      "Error tensor(0.1096)\n",
      "Training epoch 780\n",
      "Error tensor(0.1096)\n",
      "Training epoch 800\n",
      "Error tensor(0.1092)\n",
      "Training epoch 820\n",
      "Error tensor(0.1083)\n",
      "Training epoch 840\n",
      "Error tensor(0.1102)\n",
      "Training epoch 860\n",
      "Error tensor(0.1090)\n",
      "Training epoch 880\n",
      "Error tensor(0.1083)\n",
      "Training epoch 900\n",
      "Error tensor(0.1080)\n",
      "Training epoch 920\n",
      "Error tensor(0.1084)\n",
      "Training epoch 940\n",
      "Error tensor(0.1081)\n",
      "Training epoch 960\n",
      "Error tensor(0.1079)\n",
      "Training epoch 980\n",
      "Error tensor(0.1087)\n",
      "Training epoch 1000\n",
      "Error tensor(0.1074)\n"
     ]
    }
   ],
   "source": [
    "shred = models.SHRED(num_sensors, m, hidden_size=64, hidden_layers=2, l1=350, l2=400, dropout=0.1).to(device)\n",
    "validation_errors = models.fit(shred, train_dataset, valid_dataset, batch_size=64, num_epochs=1000, lr=1e-3, verbose=True, patience=5)"
   ]
  },
  {
   "attachments": {},
   "cell_type": "markdown",
   "metadata": {},
   "source": [
    "Finally, we generate reconstructions from the test set and print mean square error compared to the ground truth."
   ]
  },
  {
   "cell_type": "code",
   "execution_count": 6,
   "metadata": {},
   "outputs": [
    {
     "name": "stdout",
     "output_type": "stream",
     "text": [
      "Test Reconstruction Error: \n",
      "0.019373875\n"
     ]
    }
   ],
   "source": [
    "test_recons = sc.inverse_transform(shred(test_dataset.X).detach().cpu().numpy())\n",
    "test_ground_truth = sc.inverse_transform(test_dataset.Y.detach().cpu().numpy())\n",
    "print('Test Reconstruction Error: ')\n",
    "print(np.linalg.norm(test_recons - test_ground_truth) / np.linalg.norm(test_ground_truth))"
   ]
  }
 ],
 "metadata": {
  "kernelspec": {
   "display_name": "pytorch",
   "language": "python",
   "name": "python3"
  },
  "language_info": {
   "codemirror_mode": {
    "name": "ipython",
    "version": 3
   },
   "file_extension": ".py",
   "mimetype": "text/x-python",
   "name": "python",
   "nbconvert_exporter": "python",
   "pygments_lexer": "ipython3",
   "version": "3.8.13"
  },
  "orig_nbformat": 4,
  "vscode": {
   "interpreter": {
    "hash": "071f83251836d5bb3918d2af6501aef1a588d685a567aa45f470f25864dd9495"
   }
  }
 },
 "nbformat": 4,
 "nbformat_minor": 2
}
